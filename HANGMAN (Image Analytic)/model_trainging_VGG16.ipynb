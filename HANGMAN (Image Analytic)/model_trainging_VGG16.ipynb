{
  "cells": [
    {
      "cell_type": "markdown",
      "metadata": {
        "id": "view-in-github",
        "colab_type": "text"
      },
      "source": [
        "<a href=\"https://colab.research.google.com/github/sujarins/project/blob/main/model_trainging_VGG16.ipynb\" target=\"_parent\"><img src=\"https://colab.research.google.com/assets/colab-badge.svg\" alt=\"Open In Colab\"/></a>"
      ]
    },
    {
      "cell_type": "code",
      "source": [
        "!pip3 install emnist"
      ],
      "metadata": {
        "colab": {
          "base_uri": "https://localhost:8080/"
        },
        "id": "is6yPtxDWbij",
        "outputId": "66ac2834-ecdf-4f3e-c36e-4ed4262ca821"
      },
      "id": "is6yPtxDWbij",
      "execution_count": 1,
      "outputs": [
        {
          "output_type": "stream",
          "name": "stdout",
          "text": [
            "Collecting emnist\n",
            "  Downloading emnist-0.0-py3-none-any.whl (7.3 kB)\n",
            "Requirement already satisfied: numpy in /usr/local/lib/python3.10/dist-packages (from emnist) (1.23.5)\n",
            "Requirement already satisfied: requests in /usr/local/lib/python3.10/dist-packages (from emnist) (2.31.0)\n",
            "Requirement already satisfied: tqdm in /usr/local/lib/python3.10/dist-packages (from emnist) (4.66.1)\n",
            "Requirement already satisfied: charset-normalizer<4,>=2 in /usr/local/lib/python3.10/dist-packages (from requests->emnist) (3.2.0)\n",
            "Requirement already satisfied: idna<4,>=2.5 in /usr/local/lib/python3.10/dist-packages (from requests->emnist) (3.4)\n",
            "Requirement already satisfied: urllib3<3,>=1.21.1 in /usr/local/lib/python3.10/dist-packages (from requests->emnist) (2.0.4)\n",
            "Requirement already satisfied: certifi>=2017.4.17 in /usr/local/lib/python3.10/dist-packages (from requests->emnist) (2023.7.22)\n",
            "Installing collected packages: emnist\n",
            "Successfully installed emnist-0.0\n"
          ]
        }
      ]
    },
    {
      "cell_type": "code",
      "execution_count": 2,
      "id": "phantom-recommendation",
      "metadata": {
        "id": "phantom-recommendation"
      },
      "outputs": [],
      "source": [
        "#eminst dataset (pypi) (https://pypi.org/project/emnist/)\n",
        "from emnist import list_datasets\n",
        "from emnist import extract_training_samples\n",
        "from emnist import extract_test_samples\n",
        "\n",
        "#visualize tools\n",
        "import cv2\n",
        "import matplotlib.pyplot as plt\n",
        "\n",
        "#basic tools\n",
        "import pandas as pd\n",
        "import numpy as np\n",
        "\n",
        "#tensorflow\n",
        "import os\n",
        "import tensorflow as tf\n",
        "from tensorflow import keras\n",
        "from tensorflow.keras.preprocessing.image import ImageDataGenerator"
      ]
    },
    {
      "cell_type": "markdown",
      "source": [
        "**<font size=5>Import dataset and split into training dataset and testing dataset**"
      ],
      "metadata": {
        "id": "abx6K4c6R1CZ"
      },
      "id": "abx6K4c6R1CZ"
    },
    {
      "cell_type": "code",
      "execution_count": 3,
      "id": "wrong-mistake",
      "metadata": {
        "colab": {
          "base_uri": "https://localhost:8080/"
        },
        "id": "wrong-mistake",
        "outputId": "fe9bf06f-ed65-4479-e1e2-4ad1a693ee68"
      },
      "outputs": [
        {
          "output_type": "stream",
          "name": "stderr",
          "text": [
            "Downloading emnist.zip: 536MB [00:05, 108MB/s]\n"
          ]
        },
        {
          "output_type": "stream",
          "name": "stdout",
          "text": [
            "list_dataset:  ['balanced', 'byclass', 'bymerge', 'digits', 'letters', 'mnist']\n",
            "training_shape:  (124800, 28, 28)\n",
            "training_label_shape:  (124800,)\n",
            "test_shape:  (20800, 28, 28)\n",
            "test_label_shape:  (20800,)\n"
          ]
        }
      ],
      "source": [
        "#import emnist dataset from pypi\n",
        "print('list_dataset: ',list_datasets())\n",
        "\n",
        "#extract training and testing\n",
        "X_train, y_train = extract_training_samples('letters')\n",
        "X_test, y_test = extract_test_samples('letters')\n",
        "\n",
        "#re-check shape\n",
        "print('training_shape: ', X_train.shape)\n",
        "print('training_label_shape: ', y_train.shape)\n",
        "print('test_shape: ', X_test.shape)\n",
        "print('test_label_shape: ', y_test.shape)"
      ]
    },
    {
      "cell_type": "markdown",
      "id": "relevant-julian",
      "metadata": {
        "id": "relevant-julian"
      },
      "source": [
        "**<font size=5>Defines all function here**"
      ]
    },
    {
      "cell_type": "code",
      "execution_count": 4,
      "id": "grave-permission",
      "metadata": {
        "id": "grave-permission"
      },
      "outputs": [],
      "source": [
        "#preparing function for preprocessing and visualize samples\n",
        "def sharpen_filter(image):\n",
        "    #sharpen an image (got from https://stackoverflow.com/questions/4993082/how-can-i-sharpen-an-image-in-opencv)\n",
        "    image_blurred = cv2.GaussianBlur(image, (0, 0), 3)\n",
        "    image_sharp = cv2.addWeighted(image, 1.5, image_blurred, -0.5, 0)\n",
        "    return image_sharp\n",
        "\n",
        "def visualize_after_filter(rows, cols, cmaps, image):\n",
        "    row = rows\n",
        "    col = cols\n",
        "    num_pic = row*col\n",
        "    fig = plt.figure(figsize=(8,4))\n",
        "    for j in range(num_pic):\n",
        "        plt.subplot(row, col, j+1)\n",
        "        #plt.imshow(image[col+j], cmap=cmaps)\n",
        "        plt.imshow(image[j], cmap=cmaps)\n",
        "        #plt.title(labels[col+j])\n",
        "        #plt.title(labels[j])\n",
        "        plt.axis('off') #ถ้าอยากเอา scale ภาพออกให้ set off\n",
        "    plt.show()\n",
        "\n",
        "\n",
        "def visualize_all(row, col, cmap, viz_list, viz_name):\n",
        "\n",
        "    for i in range(len(viz_name)):\n",
        "        #training\n",
        "        print('-'*25,viz_name[i],'-'*25)\n",
        "        visualize_after_filter(rows=row,\n",
        "                               cols=col,\n",
        "                               cmaps=cmap,\n",
        "                               image=viz_list[i])\n",
        "        print(str(viz_name[i]),'.shape: ',np.array(viz_list[i]).shape,'\\n')\n",
        "\n",
        "\n"
      ]
    },
    {
      "cell_type": "markdown",
      "source": [
        "**<font size=5>Filter and Resize dataset**"
      ],
      "metadata": {
        "id": "puTphXVYRprR"
      },
      "id": "puTphXVYRprR"
    },
    {
      "cell_type": "code",
      "execution_count": 5,
      "id": "stunning-fitness",
      "metadata": {
        "colab": {
          "base_uri": "https://localhost:8080/"
        },
        "id": "stunning-fitness",
        "outputId": "b9316efd-11be-429d-fcc0-127307000edb"
      },
      "outputs": [
        {
          "output_type": "stream",
          "name": "stdout",
          "text": [
            "number of training 124800\n",
            "number of training_labels 124800\n",
            "****************************************\n",
            "number of test 20800\n",
            "number of test_labels 20800\n"
          ]
        }
      ],
      "source": [
        "#training\n",
        "#train_thres_deck = []\n",
        "train_sharp_deck = []\n",
        "training_labels = []\n",
        "\n",
        "train_inter_area = []\n",
        "train_cubic = []\n",
        "train_nearest = []\n",
        "train_linear = []\n",
        "for i in range(len(X_train)):\n",
        "    img_sharp = sharpen_filter(X_train[i])\n",
        "\n",
        "    #interpolation\n",
        "    pic_inter_area_train = cv2.resize(img_sharp, (64,64), interpolation=cv2.INTER_AREA)\n",
        "    pic_cubic_train = cv2.resize(img_sharp, (64,64), interpolation=cv2.INTER_CUBIC)\n",
        "    pic_nearest_train = cv2.resize(img_sharp, (64,64), interpolation=cv2.INTER_NEAREST)\n",
        "    pic_linear_train = cv2.resize(img_sharp, (64,64), interpolation=cv2.INTER_LINEAR)\n",
        "\n",
        "    #append\n",
        "    #train_thres_deck.append(img_sharp)\n",
        "    train_sharp_deck.append(img_sharp)\n",
        "    training_labels.append(y_train[i])\n",
        "\n",
        "    train_inter_area.append(pic_inter_area_train)\n",
        "    train_cubic.append(pic_cubic_train)\n",
        "    train_nearest.append(pic_nearest_train)\n",
        "    train_linear.append(pic_linear_train)\n",
        "\n",
        "#testing\n",
        "#test_thres_deck = []\n",
        "test_sharp_deck = []\n",
        "test_labels = []\n",
        "\n",
        "test_inter_area = []\n",
        "test_cubic = []\n",
        "test_nearest = []\n",
        "test_linear = []\n",
        "for i in range(len(X_test)):\n",
        "    img_sharp_test = sharpen_filter(X_test[i])\n",
        "\n",
        "    #interpolation\n",
        "    pic_inter_area_test = cv2.resize(img_sharp_test, (64,64), interpolation=cv2.INTER_AREA)\n",
        "    pic_cubic_test = cv2.resize(img_sharp_test, (64,64), interpolation=cv2.INTER_CUBIC)\n",
        "    pic_nearest_test = cv2.resize(img_sharp_test, (64,64), interpolation=cv2.INTER_NEAREST)\n",
        "    pic_linear_test = cv2.resize(img_sharp_test, (64,64), interpolation=cv2.INTER_LINEAR)\n",
        "\n",
        "    #append\n",
        "    #test_thres_deck.append(thres_test)\n",
        "    test_sharp_deck.append(img_sharp_test)\n",
        "    test_labels.append(y_test[i])\n",
        "\n",
        "    test_inter_area.append(pic_inter_area_test)\n",
        "    test_cubic.append(pic_cubic_test)\n",
        "    test_nearest.append(pic_nearest_test)\n",
        "    test_linear.append(pic_linear_test)\n",
        "\n",
        "print('number of training',len(train_sharp_deck))\n",
        "print('number of training_labels',len(training_labels))\n",
        "\n",
        "print('*'*40)\n",
        "print('number of test',len(test_sharp_deck))\n",
        "print('number of test_labels',len(test_labels))"
      ]
    },
    {
      "cell_type": "markdown",
      "id": "hungarian-peeing",
      "metadata": {
        "id": "hungarian-peeing"
      },
      "source": [
        "**<font size=5>Visualize picture after filtering (training dataset)**"
      ]
    },
    {
      "cell_type": "code",
      "execution_count": 6,
      "id": "joined-apparatus",
      "metadata": {
        "id": "joined-apparatus",
        "colab": {
          "base_uri": "https://localhost:8080/",
          "height": 1000
        },
        "outputId": "af467caf-080f-4170-e073-bdf871bb171d"
      },
      "outputs": [
        {
          "output_type": "stream",
          "name": "stdout",
          "text": [
            "input cols(number1-10):5\n",
            "which cmap??: binary\n",
            "------------------------- train_orinal -------------------------\n"
          ]
        },
        {
          "output_type": "display_data",
          "data": {
            "text/plain": [
              "<Figure size 800x400 with 5 Axes>"
            ],
            "image/png": "[encoded data removed]"
          },
          "metadata": {}
        },
        {
          "output_type": "stream",
          "name": "stdout",
          "text": [
            "train_orinal .shape:  (124800, 28, 28) \n",
            "\n",
            "------------------------- train_sharp -------------------------\n"
          ]
        },
        {
          "output_type": "display_data",
          "data": {
            "text/plain": [
              "<Figure size 800x400 with 5 Axes>"
            ],
            "image/png": "[encoded data removed]"
          },
          "metadata": {}
        },
        {
          "output_type": "stream",
          "name": "stdout",
          "text": [
            "train_sharp .shape:  (124800, 28, 28) \n",
            "\n",
            "------------------------- train_resize_inter_area -------------------------\n"
          ]
        },
        {
          "output_type": "display_data",
          "data": {
            "text/plain": [
              "<Figure size 800x400 with 5 Axes>"
            ],
            "image/png": "[encoded data removed]"
          },
          "metadata": {}
        },
        {
          "output_type": "stream",
          "name": "stdout",
          "text": [
            "train_resize_inter_area .shape:  (124800, 64, 64) \n",
            "\n",
            "------------------------- train_resize_cubic -------------------------\n"
          ]
        },
        {
          "output_type": "display_data",
          "data": {
            "text/plain": [
              "<Figure size 800x400 with 5 Axes>"
            ],
            "image/png": "[encoded data removed]"
          },
          "metadata": {}
        },
        {
          "output_type": "stream",
          "name": "stdout",
          "text": [
            "train_resize_cubic .shape:  (124800, 64, 64) \n",
            "\n",
            "------------------------- train_resize_nearest -------------------------\n"
          ]
        },
        {
          "output_type": "display_data",
          "data": {
            "text/plain": [
              "<Figure size 800x400 with 5 Axes>"
            ],
            "image/png": "[encoded data removed]"
          },
          "metadata": {}
        },
        {
          "output_type": "stream",
          "name": "stdout",
          "text": [
            "train_resize_nearest .shape:  (124800, 64, 64) \n",
            "\n",
            "------------------------- train_resize_linear -------------------------\n"
          ]
        },
        {
          "output_type": "display_data",
          "data": {
            "text/plain": [
              "<Figure size 800x400 with 5 Axes>"
            ],
            "image/png": "[encoded data removed]"
          },
          "metadata": {}
        },
        {
          "output_type": "stream",
          "name": "stdout",
          "text": [
            "train_resize_linear .shape:  (124800, 64, 64) \n",
            "\n"
          ]
        }
      ],
      "source": [
        "#กำหนด rows กับ cols ก่อนว่าจะดูกี่รูป\n",
        "row = 1\n",
        "col = int(input('input cols(number1-10):')) #จะให้ viz กี่คอลัมน์ ไม่เกิน 10\n",
        "cmap = input('which cmap??: ') #binary, jet\n",
        "\n",
        "viz_list = [X_train, train_sharp_deck,train_inter_area,train_cubic, train_nearest,train_linear]\n",
        "viz_name = ['train_orinal', 'train_sharp','train_resize_inter_area','train_resize_cubic','train_resize_nearest','train_resize_linear']\n",
        "\n",
        "visualize_all(row=row,col=col,cmap=cmap, viz_list=viz_list, viz_name= viz_name)"
      ]
    },
    {
      "cell_type": "markdown",
      "id": "coated-earth",
      "metadata": {
        "id": "coated-earth"
      },
      "source": [
        "**<font size=5>Visualize picture after filtering (testing dataset)**\n"
      ]
    },
    {
      "cell_type": "code",
      "execution_count": null,
      "id": "verified-debate",
      "metadata": {
        "id": "verified-debate"
      },
      "outputs": [],
      "source": [
        "#กำหนด rows กับ cols ก่อนว่าจะดูกี่รูป\n",
        "row = 1\n",
        "col = int(input('input cols(number):')) #จะให้ viz กี่คอลัมน์\n",
        "cmap = input('which cmap??: ') #binary, jet\n",
        "\n",
        "viz_list = [ X_test, test_sharp_deck, test_inter_area,test_cubic,test_nearest,test_linear]\n",
        "viz_name = [ 'test_orinal', 'test_sharp','test_resize_inter_area,','test_resize_cubic','test_resize_nearest','test_resize_linear']\n",
        "\n",
        "visualize_all(row=row,col=col,cmap=cmap, viz_list=viz_list, viz_name= viz_name)"
      ]
    },
    {
      "cell_type": "markdown",
      "id": "important-museum",
      "metadata": {
        "id": "important-museum"
      },
      "source": [
        "**<font size=5>Check and Prepare data to train model**"
      ]
    },
    {
      "cell_type": "code",
      "source": [
        "#set labels to one-hot\n",
        "from sklearn.preprocessing import LabelBinarizer\n",
        "label_as_binary = LabelBinarizer()\n",
        "train_y_labels = label_as_binary.fit_transform(training_labels)\n",
        "test_y_labels = label_as_binary.fit_transform(test_labels)"
      ],
      "metadata": {
        "id": "NbYOu1-7gtGp"
      },
      "id": "NbYOu1-7gtGp",
      "execution_count": 7,
      "outputs": []
    },
    {
      "cell_type": "code",
      "execution_count": 8,
      "id": "illegal-newton",
      "metadata": {
        "colab": {
          "base_uri": "https://localhost:8080/"
        },
        "id": "illegal-newton",
        "outputId": "fcd1281c-9bc4-4f80-bfdf-57c90c797126"
      },
      "outputs": [
        {
          "output_type": "stream",
          "name": "stdout",
          "text": [
            "train_deck: (124800, 64, 64, 3)\n",
            "test_deck: (20800, 64, 64, 3)\n"
          ]
        },
        {
          "output_type": "stream",
          "name": "stderr",
          "text": [
            "/usr/local/lib/python3.10/dist-packages/keras/preprocessing/image.py:766: UserWarning: NumpyArrayIterator is set to use the data format convention \"channels_first\" (channels on axis 1), i.e. expected either 1, 3, or 4 channels on axis 1. However, it was passed an array with shape (124800, 64, 64, 3) (64 channels).\n",
            "  warnings.warn(\n",
            "/usr/local/lib/python3.10/dist-packages/keras/preprocessing/image.py:766: UserWarning: NumpyArrayIterator is set to use the data format convention \"channels_first\" (channels on axis 1), i.e. expected either 1, 3, or 4 channels on axis 1. However, it was passed an array with shape (20800, 64, 64, 3) (64 channels).\n",
            "  warnings.warn(\n"
          ]
        }
      ],
      "source": [
        "# as picture visualization, I chose resize by interpolation=cv2.INTER_CUBIC\n",
        "\n",
        "x_train_deck = np.stack((train_cubic,)*3, axis=-1)\n",
        "print('train_deck:',x_train_deck.shape)\n",
        "\n",
        "\n",
        "x_test_deck= np.stack((test_cubic,)*3, axis=-1)\n",
        "print('test_deck:',x_test_deck.shape)\n",
        "\n",
        "\n",
        "#Data Augmentation\n",
        "gen = ImageDataGenerator(rotation_range=12,\n",
        "                        width_shift_range=0.1,\n",
        "                        shear_range=0.3,\n",
        "                        height_shift_range=0.1,\n",
        "                        zoom_range=0.1,\n",
        "                        data_format='channels_first')\n",
        "\n",
        "#flow เข้า model ตรงนี้ ถ้าจะเอาไป train\n",
        "batch_size = 256\n",
        "train_batches = gen.flow(x_train_deck, train_y_labels, batch_size=batch_size)\n",
        "test_batches = gen.flow(x_test_deck, test_y_labels, batch_size=batch_size)\n",
        "\n",
        "steps_per_epoch = int(np.ceil(train_batches.n/batch_size))\n",
        "validation_steps = int(np.ceil(test_batches.n/batch_size))"
      ]
    },
    {
      "cell_type": "markdown",
      "source": [
        "<h1> training </h1>"
      ],
      "metadata": {
        "id": "lJpvvdKpUqEu"
      },
      "id": "lJpvvdKpUqEu"
    },
    {
      "cell_type": "code",
      "source": [
        "import warnings\n",
        "warnings.filterwarnings('ignore')"
      ],
      "metadata": {
        "id": "7ackk-ipUtT8"
      },
      "id": "7ackk-ipUtT8",
      "execution_count": 9,
      "outputs": []
    },
    {
      "cell_type": "code",
      "source": [
        "import pandas as pd\n",
        "import numpy as np\n",
        "import os\n",
        "import matplotlib.pyplot as plt\n",
        "\n",
        "from tensorflow.keras import layers\n",
        "from tensorflow.keras.layers import Dense, GlobalAveragePooling2D\n",
        "from tensorflow.keras.applications.vgg16 import preprocess_input, VGG16\n",
        "from tensorflow.keras.preprocessing import image\n",
        "from tensorflow.keras.models import Model\n",
        "from tensorflow.keras.optimizers import Adam\n",
        "from tensorflow.keras.preprocessing.image import ImageDataGenerator"
      ],
      "metadata": {
        "id": "LEYvLDHCVDdF"
      },
      "id": "LEYvLDHCVDdF",
      "execution_count": 10,
      "outputs": []
    },
    {
      "cell_type": "code",
      "source": [
        "#set seed (gor from https://stackoverflow.com/questions/32419510/how-to-get-reproducible-results-in-keras)\n",
        "# Seed value\n",
        "# Apparently you may use different seed values at each stage\n",
        "seed_value= 0\n",
        "\n",
        "# 1. Set the `PYTHONHASHSEED` environment variable at a fixed value\n",
        "import os\n",
        "os.environ['PYTHONHASHSEED']=str(seed_value)\n",
        "\n",
        "# 2. Set the `python` built-in pseudo-random generator at a fixed value\n",
        "import random\n",
        "random.seed(seed_value)\n",
        "\n",
        "# 3. Set the `numpy` pseudo-random generator at a fixed value\n",
        "import numpy as np\n",
        "np.random.seed(seed_value)\n",
        "\n",
        "# 4. Set the `tensorflow` pseudo-random generator at a fixed value\n",
        "import tensorflow as tf\n",
        "tf.random.set_seed(seed_value)\n",
        "# for later versions:\n",
        "# tf.compat.v1.set_random_seed(seed_value)"
      ],
      "metadata": {
        "id": "oNGRNA9eVE8R"
      },
      "id": "oNGRNA9eVE8R",
      "execution_count": 11,
      "outputs": []
    },
    {
      "cell_type": "code",
      "source": [
        "input_layer=layers.Input(shape=(64,64,3))\n",
        "base_model = VGG16(weights='imagenet',input_tensor=input_layer,include_top=False)\n",
        "\n",
        "x = base_model.output\n",
        "#x = GlobalAveragePooling2D()(x)\n",
        "x = layers.Flatten()(x)\n",
        "#x = Dense(256, activation='relu')(x)\n",
        "x = Dense(128, activation='relu')(x)\n",
        "x = Dense(64, activation='relu')(x)\n",
        "preds = Dense(26, activation='softmax')(x)\n",
        "\n",
        "model = Model(inputs=base_model.input, outputs=preds)\n",
        "model.summary()"
      ],
      "metadata": {
        "id": "5pEjMS3dVGc-",
        "colab": {
          "base_uri": "https://localhost:8080/"
        },
        "outputId": "a18e3802-790e-4ac4-d816-995e2bffd190"
      },
      "id": "5pEjMS3dVGc-",
      "execution_count": 12,
      "outputs": [
        {
          "output_type": "stream",
          "name": "stdout",
          "text": [
            "Downloading data from https://storage.googleapis.com/tensorflow/keras-applications/vgg16/vgg16_weights_tf_dim_ordering_tf_kernels_notop.h5\n",
            "58889256/58889256 [==============================] - 0s 0us/step\n",
            "Model: \"model\"\n",
            "_________________________________________________________________\n",
            " Layer (type)                Output Shape              Param #   \n",
            "=================================================================\n",
            " input_1 (InputLayer)        [(None, 64, 64, 3)]       0         \n",
            "                                                                 \n",
            " block1_conv1 (Conv2D)       (None, 64, 64, 64)        1792      \n",
            "                                                                 \n",
            " block1_conv2 (Conv2D)       (None, 64, 64, 64)        36928     \n",
            "                                                                 \n",
            " block1_pool (MaxPooling2D)  (None, 32, 32, 64)        0         \n",
            "                                                                 \n",
            " block2_conv1 (Conv2D)       (None, 32, 32, 128)       73856     \n",
            "                                                                 \n",
            " block2_conv2 (Conv2D)       (None, 32, 32, 128)       147584    \n",
            "                                                                 \n",
            " block2_pool (MaxPooling2D)  (None, 16, 16, 128)       0         \n",
            "                                                                 \n",
            " block3_conv1 (Conv2D)       (None, 16, 16, 256)       295168    \n",
            "                                                                 \n",
            " block3_conv2 (Conv2D)       (None, 16, 16, 256)       590080    \n",
            "                                                                 \n",
            " block3_conv3 (Conv2D)       (None, 16, 16, 256)       590080    \n",
            "                                                                 \n",
            " block3_pool (MaxPooling2D)  (None, 8, 8, 256)         0         \n",
            "                                                                 \n",
            " block4_conv1 (Conv2D)       (None, 8, 8, 512)         1180160   \n",
            "                                                                 \n",
            " block4_conv2 (Conv2D)       (None, 8, 8, 512)         2359808   \n",
            "                                                                 \n",
            " block4_conv3 (Conv2D)       (None, 8, 8, 512)         2359808   \n",
            "                                                                 \n",
            " block4_pool (MaxPooling2D)  (None, 4, 4, 512)         0         \n",
            "                                                                 \n",
            " block5_conv1 (Conv2D)       (None, 4, 4, 512)         2359808   \n",
            "                                                                 \n",
            " block5_conv2 (Conv2D)       (None, 4, 4, 512)         2359808   \n",
            "                                                                 \n",
            " block5_conv3 (Conv2D)       (None, 4, 4, 512)         2359808   \n",
            "                                                                 \n",
            " block5_pool (MaxPooling2D)  (None, 2, 2, 512)         0         \n",
            "                                                                 \n",
            " flatten (Flatten)           (None, 2048)              0         \n",
            "                                                                 \n",
            " dense (Dense)               (None, 128)               262272    \n",
            "                                                                 \n",
            " dense_1 (Dense)             (None, 64)                8256      \n",
            "                                                                 \n",
            " dense_2 (Dense)             (None, 26)                1690      \n",
            "                                                                 \n",
            "=================================================================\n",
            "Total params: 14,986,906\n",
            "Trainable params: 14,986,906\n",
            "Non-trainable params: 0\n",
            "_________________________________________________________________\n"
          ]
        }
      ]
    },
    {
      "cell_type": "code",
      "source": [
        "# setting which layer can be trained\n",
        "for layer in model.layers[:20]: #VGG16 layer\n",
        "    layer.trainable = False\n",
        "for layer in model.layers[20:]:\n",
        "    layer.trainable = True"
      ],
      "metadata": {
        "id": "g90ZfrxoVJ0t"
      },
      "id": "g90ZfrxoVJ0t",
      "execution_count": 13,
      "outputs": []
    },
    {
      "cell_type": "code",
      "source": [
        "model.compile(optimizer='adam', loss='categorical_crossentropy', metrics=['accuracy'])"
      ],
      "metadata": {
        "id": "NkQsUOdeVMvC"
      },
      "id": "NkQsUOdeVMvC",
      "execution_count": 14,
      "outputs": []
    },
    {
      "cell_type": "code",
      "source": [
        "model.fit(train_batches, steps_per_epoch= steps_per_epoch, epochs=10)"
      ],
      "metadata": {
        "colab": {
          "base_uri": "https://localhost:8080/"
        },
        "id": "hbNMR1MJVS5D",
        "outputId": "5f712c56-26de-420d-dca6-8fe04d55d741"
      },
      "id": "hbNMR1MJVS5D",
      "execution_count": 15,
      "outputs": [
        {
          "output_type": "stream",
          "name": "stdout",
          "text": [
            "Epoch 1/10\n",
            "488/488 [==============================] - 578s 1s/step - loss: 0.8287 - accuracy: 0.7771\n",
            "Epoch 2/10\n",
            "488/488 [==============================] - 586s 1s/step - loss: 0.3586 - accuracy: 0.8850\n",
            "Epoch 3/10\n",
            "488/488 [==============================] - 578s 1s/step - loss: 0.3045 - accuracy: 0.8992\n",
            "Epoch 4/10\n",
            "488/488 [==============================] - 579s 1s/step - loss: 0.2753 - accuracy: 0.9080\n",
            "Epoch 5/10\n",
            "488/488 [==============================] - 576s 1s/step - loss: 0.2552 - accuracy: 0.9140\n",
            "Epoch 6/10\n",
            "488/488 [==============================] - 579s 1s/step - loss: 0.2427 - accuracy: 0.9170\n",
            "Epoch 7/10\n",
            "488/488 [==============================] - 581s 1s/step - loss: 0.2278 - accuracy: 0.9214\n",
            "Epoch 8/10\n",
            "488/488 [==============================] - 585s 1s/step - loss: 0.2248 - accuracy: 0.9227\n",
            "Epoch 9/10\n",
            "488/488 [==============================] - 581s 1s/step - loss: 0.2129 - accuracy: 0.9263\n",
            "Epoch 10/10\n",
            "488/488 [==============================] - 577s 1s/step - loss: 0.2071 - accuracy: 0.9274\n"
          ]
        },
        {
          "output_type": "execute_result",
          "data": {
            "text/plain": [
              "<keras.callbacks.History at 0x7ebb33a95870>"
            ]
          },
          "metadata": {},
          "execution_count": 15
        }
      ]
    },
    {
      "cell_type": "code",
      "source": [
        "model.save('model_vgg16_text.h5')"
      ],
      "metadata": {
        "id": "VrbH0J7q5iJ4"
      },
      "id": "VrbH0J7q5iJ4",
      "execution_count": 16,
      "outputs": []
    },
    {
      "cell_type": "code",
      "source": [
        "score = model.evaluate(test_batches)"
      ],
      "metadata": {
        "colab": {
          "base_uri": "https://localhost:8080/"
        },
        "id": "pEOQM3rMtSTz",
        "outputId": "0c58895e-b742-44e9-98b2-a82659eaf712"
      },
      "id": "pEOQM3rMtSTz",
      "execution_count": 17,
      "outputs": [
        {
          "output_type": "stream",
          "name": "stdout",
          "text": [
            "82/82 [==============================] - 96s 1s/step - loss: 0.2913 - accuracy: 0.9081\n"
          ]
        }
      ]
    },
    {
      "cell_type": "code",
      "source": [],
      "metadata": {
        "id": "vWu2xbvFg0k6"
      },
      "id": "vWu2xbvFg0k6",
      "execution_count": null,
      "outputs": []
    }
  ],
  "metadata": {
    "kernelspec": {
      "display_name": "Python 3",
      "name": "python3"
    },
    "language_info": {
      "codemirror_mode": {
        "name": "ipython",
        "version": 3
      },
      "file_extension": ".py",
      "mimetype": "text/x-python",
      "name": "python",
      "nbconvert_exporter": "python",
      "pygments_lexer": "ipython3",
      "version": "3.7.7"
    },
    "colab": {
      "provenance": [],
      "machine_shape": "hm",
      "include_colab_link": true
    },
    "accelerator": "TPU"
  },
  "nbformat": 4,
  "nbformat_minor": 5
}
