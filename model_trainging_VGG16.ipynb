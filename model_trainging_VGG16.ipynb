{
  "cells": [
    {
      "cell_type": "markdown",
      "metadata": {
        "id": "view-in-github",
        "colab_type": "text"
      },
      "source": [
        "<a href=\"https://colab.research.google.com/github/sujarins/project/blob/main/model_trainging_VGG16.ipynb\" target=\"_parent\"><img src=\"https://colab.research.google.com/assets/colab-badge.svg\" alt=\"Open In Colab\"/></a>"
      ]
    },
    {
      "cell_type": "code",
      "source": [
        "!pip3 install emnist"
      ],
      "metadata": {
        "colab": {
          "base_uri": "https://localhost:8080/"
        },
        "id": "is6yPtxDWbij",
        "outputId": "bb29dcdb-cd90-49d0-df69-10cc1942bfe1"
      },
      "id": "is6yPtxDWbij",
      "execution_count": null,
      "outputs": [
        {
          "output_type": "stream",
          "name": "stdout",
          "text": [
            "Collecting emnist\n",
            "  Downloading emnist-0.0-py3-none-any.whl (7.3 kB)\n",
            "Requirement already satisfied: numpy in /usr/local/lib/python3.10/dist-packages (from emnist) (1.23.5)\n",
            "Requirement already satisfied: requests in /usr/local/lib/python3.10/dist-packages (from emnist) (2.31.0)\n",
            "Requirement already satisfied: tqdm in /usr/local/lib/python3.10/dist-packages (from emnist) (4.66.1)\n",
            "Requirement already satisfied: charset-normalizer<4,>=2 in /usr/local/lib/python3.10/dist-packages (from requests->emnist) (3.2.0)\n",
            "Requirement already satisfied: idna<4,>=2.5 in /usr/local/lib/python3.10/dist-packages (from requests->emnist) (3.4)\n",
            "Requirement already satisfied: urllib3<3,>=1.21.1 in /usr/local/lib/python3.10/dist-packages (from requests->emnist) (2.0.4)\n",
            "Requirement already satisfied: certifi>=2017.4.17 in /usr/local/lib/python3.10/dist-packages (from requests->emnist) (2023.7.22)\n",
            "Installing collected packages: emnist\n",
            "Successfully installed emnist-0.0\n"
          ]
        }
      ]
    },
    {
      "cell_type": "code",
      "execution_count": null,
      "id": "phantom-recommendation",
      "metadata": {
        "id": "phantom-recommendation"
      },
      "outputs": [],
      "source": [
        "#eminst dataset (pypi) (https://pypi.org/project/emnist/)\n",
        "from emnist import list_datasets\n",
        "from emnist import extract_training_samples\n",
        "from emnist import extract_test_samples\n",
        "\n",
        "#visualize tools\n",
        "import cv2\n",
        "import matplotlib.pyplot as plt\n",
        "\n",
        "#basic tools\n",
        "import pandas as pd\n",
        "import numpy as np\n",
        "\n",
        "#tensorflow\n",
        "import os\n",
        "import tensorflow as tf\n",
        "from tensorflow import keras\n",
        "from tensorflow.keras.preprocessing.image import ImageDataGenerator"
      ]
    },
    {
      "cell_type": "code",
      "execution_count": null,
      "id": "wrong-mistake",
      "metadata": {
        "colab": {
          "base_uri": "https://localhost:8080/"
        },
        "id": "wrong-mistake",
        "outputId": "942edb62-762a-49ef-bcec-02f4d101c8c0"
      },
      "outputs": [
        {
          "output_type": "stream",
          "name": "stderr",
          "text": [
            "Downloading emnist.zip: 536MB [00:07, 73.4MB/s]\n"
          ]
        },
        {
          "output_type": "stream",
          "name": "stdout",
          "text": [
            "list_dataset:  ['balanced', 'byclass', 'bymerge', 'digits', 'letters', 'mnist']\n",
            "training_shape:  (124800, 28, 28)\n",
            "training_label_shape:  (124800,)\n",
            "test_shape:  (20800, 28, 28)\n",
            "test_label_shape:  (20800,)\n"
          ]
        }
      ],
      "source": [
        "#import emnist dataset from pypi\n",
        "print('list_dataset: ',list_datasets())\n",
        "\n",
        "#extract training and testing\n",
        "X_train, y_train = extract_training_samples('letters')\n",
        "X_test, y_test = extract_test_samples('letters')\n",
        "\n",
        "#re-check shape\n",
        "print('training_shape: ', X_train.shape)\n",
        "print('training_label_shape: ', y_train.shape)\n",
        "print('test_shape: ', X_test.shape)\n",
        "print('test_label_shape: ', y_test.shape)"
      ]
    },
    {
      "cell_type": "markdown",
      "id": "relevant-julian",
      "metadata": {
        "id": "relevant-julian"
      },
      "source": [
        "**<font size=5>Defines all function here**"
      ]
    },
    {
      "cell_type": "code",
      "execution_count": null,
      "id": "grave-permission",
      "metadata": {
        "id": "grave-permission"
      },
      "outputs": [],
      "source": [
        "#preparing function for preprocessing and visualize samples\n",
        "def why_u_not_create_function(image):\n",
        "    #sharpen an image (got from https://stackoverflow.com/questions/4993082/how-can-i-sharpen-an-image-in-opencv)\n",
        "    image_blurred = cv2.GaussianBlur(image, (0, 0), 3)\n",
        "    image_sharp1 = cv2.addWeighted(image, 1.5, image_blurred, -0.5, 0)\n",
        "\n",
        "    #using inverse binary threshold  (got from https://docs.opencv.org/4.x/d7/d4d/tutorial_py_thresholding.html)\n",
        "    thresh = 127\n",
        "    maxval = 255\n",
        "    ret,thres = cv2.threshold(image_sharp1,thresh,maxval,cv2.THRESH_BINARY_INV)\n",
        "    #return ret, thres, image_sharp1\n",
        "    return ret, image_sharp1, image_sharp1\n",
        "\n",
        "'''\n",
        "def interpolation_thres(thres, i): #nearest, area, cubic, linear\n",
        "    bgr = np.dstack((thres,thres,thres))\n",
        "    interpolation = cv2.resize(bgr,\n",
        "                               (224, 224),\n",
        "                               interpolation= i)\n",
        "\n",
        "    return interpolation\n",
        "'''\n",
        "\n",
        "'''\n",
        "def why_u_not_create_visualize_function(image, cmap): #optional for visual one pic\n",
        "    fig = plt.figure(figsize=(8,4))\n",
        "    plt.imshow( image, cmap=cmap )\n",
        "    plt.clim(vmin=0, vmax = 255)\n",
        "    plt.colorbar()\n",
        "'''\n",
        "\n",
        "def visualize_after_filter(rows, cols, cmaps, image, labels):\n",
        "    row = rows\n",
        "    col = cols\n",
        "    num_pic = row*col\n",
        "    fig = plt.figure(figsize=(10,6))\n",
        "    for j in range(num_pic):\n",
        "        plt.subplot(row, col, j+1)\n",
        "        #plt.imshow(image[col+j], cmap=cmaps)\n",
        "        plt.imshow(image[j], cmap=cmaps)\n",
        "        #plt.title(labels[col+j])\n",
        "        plt.title(labels[j])\n",
        "        plt.axis('off') #ถ้าอยากเอา scale ภาพออกให้ set off\n",
        "    plt.show()\n",
        "\n",
        "\n",
        "def visualize_all(row, col, cmap, viz_list):\n",
        "    viz_lst = viz_list\n",
        "\n",
        "    for i in viz_lst:\n",
        "        #training\n",
        "        print('*'*20,str(i[2]),'*'*20)\n",
        "        visualize_after_filter(rows=row,\n",
        "                               cols=col,\n",
        "                               cmaps=cmap,\n",
        "                               image=i[0],\n",
        "                               labels=training_labels)\n",
        "        print(str(i[2]),'.shape: ',np.array(i[0]).shape,'\\n')\n",
        "\n",
        "        #testing\n",
        "        print('*'*20,str(i[3]),'*'*20)\n",
        "        visualize_after_filter(rows=row,\n",
        "                               cols=col,\n",
        "                               cmaps=cmap,\n",
        "                               image=i[1],\n",
        "                               labels=test_labels)\n",
        "        print(str(i[3]),'.shape: ',np.array(i[1]).shape,'\\n')\n",
        "\n",
        "        print('*'*58,'\\n')\n",
        "\n"
      ]
    },
    {
      "cell_type": "code",
      "execution_count": null,
      "id": "stunning-fitness",
      "metadata": {
        "colab": {
          "base_uri": "https://localhost:8080/"
        },
        "id": "stunning-fitness",
        "outputId": "f5313283-ec63-4f0e-88ed-dbe0e94c423c"
      },
      "outputs": [
        {
          "output_type": "stream",
          "name": "stdout",
          "text": [
            "number of training 124800\n",
            "number of training_labels 124800\n",
            "****************************************\n",
            "number of test 20800\n",
            "number of test_labels 20800\n"
          ]
        }
      ],
      "source": [
        "#training\n",
        "train_thres_deck = []\n",
        "train_sharp_deck = []\n",
        "training_labels = []\n",
        "\n",
        "train_inter_area = []\n",
        "train_cubic = []\n",
        "train_nearest = []\n",
        "train_linear = []\n",
        "for i in range(len(X_train)):\n",
        "    ret, thres, img_sharp = why_u_not_create_function(X_train[i])\n",
        "\n",
        "    #interpolation\n",
        "    pic_inter_area_train = cv2.resize(thres, (64,64), interpolation=cv2.INTER_AREA)\n",
        "    pic_cubic_train = cv2.resize(thres, (64,64), interpolation=cv2.INTER_CUBIC)\n",
        "    pic_nearest_train = cv2.resize(thres, (64,64), interpolation=cv2.INTER_NEAREST)\n",
        "    pic_linear_train = cv2.resize(thres, (64,64), interpolation=cv2.INTER_LINEAR)\n",
        "\n",
        "    #append\n",
        "    train_thres_deck.append(thres)\n",
        "    train_sharp_deck.append(img_sharp)\n",
        "    training_labels.append(y_train[i])\n",
        "\n",
        "    train_inter_area.append(pic_inter_area_train)\n",
        "    train_cubic.append(pic_cubic_train)\n",
        "    train_nearest.append(pic_nearest_train)\n",
        "    train_linear.append(pic_linear_train)\n",
        "\n",
        "#testing\n",
        "test_thres_deck = []\n",
        "test_sharp_deck = []\n",
        "test_labels = []\n",
        "\n",
        "test_inter_area = []\n",
        "test_cubic = []\n",
        "test_nearest = []\n",
        "test_linear = []\n",
        "for i in range(len(X_test)):\n",
        "    ret, thres_test, img_sharp_test = why_u_not_create_function(X_test[i])\n",
        "\n",
        "    #interpolation\n",
        "    pic_inter_area_test = cv2.resize(thres_test, (64,64), interpolation=cv2.INTER_AREA)\n",
        "    pic_cubic_test = cv2.resize(thres_test, (64,64), interpolation=cv2.INTER_CUBIC)\n",
        "    pic_nearest_test = cv2.resize(thres_test, (64,64), interpolation=cv2.INTER_NEAREST)\n",
        "    pic_linear_test = cv2.resize(thres_test, (64,64), interpolation=cv2.INTER_LINEAR)\n",
        "\n",
        "    #append\n",
        "    test_thres_deck.append(thres_test)\n",
        "    test_sharp_deck.append(img_sharp_test)\n",
        "    test_labels.append(y_test[i])\n",
        "\n",
        "    test_inter_area.append(pic_inter_area_test)\n",
        "    test_cubic.append(pic_cubic_test)\n",
        "    test_nearest.append(pic_nearest_test)\n",
        "    test_linear.append(pic_linear_test)\n",
        "\n",
        "print('number of training',len(train_thres_deck))\n",
        "print('number of training_labels',len(training_labels))\n",
        "\n",
        "print('*'*40)\n",
        "print('number of test',len(test_thres_deck))\n",
        "print('number of test_labels',len(test_labels))"
      ]
    },
    {
      "cell_type": "markdown",
      "id": "hungarian-peeing",
      "metadata": {
        "id": "hungarian-peeing"
      },
      "source": [
        "**<font size=5>Visualize All**"
      ]
    },
    {
      "cell_type": "code",
      "execution_count": null,
      "id": "joined-apparatus",
      "metadata": {
        "id": "joined-apparatus"
      },
      "outputs": [],
      "source": [
        "#กำหนด rows กับ cols ก่อนว่าจะดูกี่รูป\n",
        "row = int(input('input rows(number):')) #จะให้ viz กี่แถว\n",
        "col = int(input('input cols(number):')) #จะให้ viz กี่คอลัมน์\n",
        "cmap = input('which cmap??: ') #binary, jet\n",
        "\n",
        "viz_lst = [[X_train, X_test, 'train_orinal', 'test_orinal'],\n",
        "            [train_sharp_deck, test_sharp_deck, 'train_sharp', 'test_sharp'],\n",
        "            [train_thres_deck, test_thres_deck, 'train_threshold binary inv', 'test_threshold binary inv']]\n",
        "\n",
        "visualize_all(row=row,col=col,cmap=cmap, viz_list=viz_lst)"
      ]
    },
    {
      "cell_type": "markdown",
      "id": "coated-earth",
      "metadata": {
        "id": "coated-earth"
      },
      "source": [
        "5**<font size=5>Interpolation**"
      ]
    },
    {
      "cell_type": "code",
      "execution_count": null,
      "id": "verified-debate",
      "metadata": {
        "id": "verified-debate"
      },
      "outputs": [],
      "source": [
        "#กำหนด rows กับ cols ก่อนว่าจะดูกี่รูป\n",
        "row = int(input('input rows(number):')) #จะให้ viz กี่แถว\n",
        "col = int(input('input cols(number):')) #จะให้ viz กี่คอลัมน์\n",
        "cmap = input('which cmap??: ') #binary, jet\n",
        "\n",
        "viz_lst = [[train_inter_area, test_inter_area, 'train_inter_area', 'test_inter_area'],\n",
        "            [train_cubic, test_cubic, 'train_cubic', 'test_cubic'],\n",
        "            [train_nearest, test_nearest, 'train_nearest', 'test_nearest'],\n",
        "            [train_linear, test_linear, 'train_linear', 'test_linear']\n",
        "                ]\n",
        "\n",
        "visualize_all(row=row,col=col,cmap=cmap, viz_list=viz_lst)"
      ]
    },
    {
      "cell_type": "markdown",
      "id": "important-museum",
      "metadata": {
        "id": "important-museum"
      },
      "source": [
        "555**<font size=5>Data Augmentation**"
      ]
    },
    {
      "cell_type": "code",
      "execution_count": null,
      "id": "illegal-newton",
      "metadata": {
        "colab": {
          "base_uri": "https://localhost:8080/"
        },
        "id": "illegal-newton",
        "outputId": "0a14b7c5-2bd1-405c-deaa-bb98f53ded6b"
      },
      "outputs": [
        {
          "output_type": "stream",
          "name": "stdout",
          "text": [
            "train_thres_deck: (124800, 64, 64, 3)\n",
            "thres_binary_inv_training: (124800, 64, 64, 3)\n",
            "train_thres_deck: (28, 28)\n",
            "thres_binary_inv_test: (20800, 64, 64, 3)\n"
          ]
        },
        {
          "output_type": "stream",
          "name": "stderr",
          "text": [
            "/usr/local/lib/python3.10/dist-packages/keras/preprocessing/image.py:766: UserWarning: NumpyArrayIterator is set to use the data format convention \"channels_first\" (channels on axis 1), i.e. expected either 1, 3, or 4 channels on axis 1. However, it was passed an array with shape (124800, 64, 64, 3) (64 channels).\n",
            "  warnings.warn(\n",
            "/usr/local/lib/python3.10/dist-packages/keras/preprocessing/image.py:766: UserWarning: NumpyArrayIterator is set to use the data format convention \"channels_first\" (channels on axis 1), i.e. expected either 1, 3, or 4 channels on axis 1. However, it was passed an array with shape (20800, 64, 64, 3) (64 channels).\n",
            "  warnings.warn(\n"
          ]
        }
      ],
      "source": [
        "#threshold binary inverse\n",
        "#thres_train = np.array(train_thres_deck)\n",
        "#x_train_thres = thres_train.reshape(thres_train.shape[0], 3, 28, 28, order='A')\n",
        "\n",
        "# Convert the images into 3 channels as MNIST images are Black and White so have 1 channel\n",
        "#thres_train = np.dstack([train_thres_deck] * 3)\n",
        "# Reshape images as per the tensor format required by tensorflow\n",
        "#x_train_thres = thres_train.reshape(-1, 28, 28, 3)\n",
        "\n",
        "x_train_thres= np.stack((train_cubic,)*3, axis=-1)\n",
        "#x_train_thres_check_pic = np.moveaxis(x_train_thres, 3, 1)\n",
        "\n",
        "print('train_thres_deck:',x_train_thres.shape)\n",
        "print('thres_binary_inv_training:',x_train_thres.shape)\n",
        "#print('thres_binary_inv_training_check_pic:',x_train_thres_check_pic.shape)\n",
        "\n",
        "\n",
        "\n",
        "x_test_thres= np.stack((test_cubic,)*3, axis=-1)\n",
        "x_test_thres_check_pic = np.moveaxis(x_test_thres, 3, 1)\n",
        "\n",
        "#thres_test = np.array(test_thres_deck)\n",
        "#x_test_thres = thres_test.reshape(thres_train.shape[0], 3, 28, 28, order='A')\n",
        "\n",
        "print('train_thres_deck:',thres_test.shape)\n",
        "print('thres_binary_inv_test:',x_test_thres.shape)\n",
        "#print('thres_binary_inv_test_check_pic:',x_test_thres_check_pic .shape)\n",
        "\n",
        "\n",
        "#Data Augmentation\n",
        "gen = ImageDataGenerator(rotation_range=12,\n",
        "                        width_shift_range=0.1,\n",
        "                        shear_range=0.3,\n",
        "                        height_shift_range=0.1,\n",
        "                        zoom_range=0.1,\n",
        "                        data_format='channels_first')\n",
        "\n",
        "#flow เข้า model ตรงนี้ ถ้าจะเอาไป train\n",
        "batch_size = 512\n",
        "train_batches = gen.flow(x_train_thres, training_labels, batch_size=batch_size)\n",
        "test_batches = gen.flow(x_test_thres, test_labels, batch_size=batch_size)\n",
        "\n",
        "steps_per_epoch = int(np.ceil(train_batches.n/batch_size))\n",
        "validation_steps = int(np.ceil(test_batches.n/batch_size))"
      ]
    },
    {
      "cell_type": "code",
      "execution_count": null,
      "id": "complimentary-aging",
      "metadata": {
        "colab": {
          "base_uri": "https://localhost:8080/",
          "height": 248
        },
        "id": "complimentary-aging",
        "outputId": "5946165f-140a-4f51-e171-30916fdf0c9f"
      },
      "outputs": [
        {
          "output_type": "error",
          "ename": "NameError",
          "evalue": "ignored",
          "traceback": [
            "\u001b[0;31m---------------------------------------------------------------------------\u001b[0m",
            "\u001b[0;31mNameError\u001b[0m                                 Traceback (most recent call last)",
            "\u001b[0;32m<ipython-input-8-c23cd709ad66>\u001b[0m in \u001b[0;36m<cell line: 3>\u001b[0;34m()\u001b[0m\n\u001b[1;32m      1\u001b[0m \u001b[0;31m#training\u001b[0m\u001b[0;34m\u001b[0m\u001b[0;34m\u001b[0m\u001b[0m\n\u001b[1;32m      2\u001b[0m \u001b[0;31m#reshape image\u001b[0m\u001b[0;34m\u001b[0m\u001b[0;34m\u001b[0m\u001b[0m\n\u001b[0;32m----> 3\u001b[0;31m \u001b[0mimg\u001b[0m \u001b[0;34m=\u001b[0m \u001b[0mnp\u001b[0m\u001b[0;34m.\u001b[0m\u001b[0mexpand_dims\u001b[0m\u001b[0;34m(\u001b[0m\u001b[0mx_train_thres_check_pic\u001b[0m\u001b[0;34m[\u001b[0m\u001b[0;36m0\u001b[0m\u001b[0;34m]\u001b[0m\u001b[0;34m,\u001b[0m \u001b[0maxis\u001b[0m\u001b[0;34m=\u001b[0m\u001b[0;36m0\u001b[0m\u001b[0;34m)\u001b[0m\u001b[0;34m\u001b[0m\u001b[0;34m\u001b[0m\u001b[0m\n\u001b[0m\u001b[1;32m      4\u001b[0m \u001b[0maug_iter\u001b[0m \u001b[0;34m=\u001b[0m \u001b[0mgen\u001b[0m\u001b[0;34m.\u001b[0m\u001b[0mflow\u001b[0m\u001b[0;34m(\u001b[0m\u001b[0mimg\u001b[0m\u001b[0;34m)\u001b[0m\u001b[0;34m\u001b[0m\u001b[0;34m\u001b[0m\u001b[0m\n\u001b[1;32m      5\u001b[0m \u001b[0maug_img\u001b[0m \u001b[0;34m=\u001b[0m \u001b[0mnext\u001b[0m\u001b[0;34m(\u001b[0m\u001b[0maug_iter\u001b[0m\u001b[0;34m)\u001b[0m\u001b[0;34m[\u001b[0m\u001b[0;36m0\u001b[0m\u001b[0;34m]\u001b[0m\u001b[0;34m.\u001b[0m\u001b[0mastype\u001b[0m\u001b[0;34m(\u001b[0m\u001b[0mnp\u001b[0m\u001b[0;34m.\u001b[0m\u001b[0mfloat32\u001b[0m\u001b[0;34m)\u001b[0m\u001b[0;34m\u001b[0m\u001b[0;34m\u001b[0m\u001b[0m\n",
            "\u001b[0;31mNameError\u001b[0m: name 'x_train_thres_check_pic' is not defined"
          ]
        }
      ],
      "source": [
        "#training\n",
        "#reshape image\n",
        "img = np.expand_dims(x_train_thres_check_pic[0], axis=0)\n",
        "aug_iter = gen.flow(img)\n",
        "aug_img = next(aug_iter)[0].astype(np.float32)\n",
        "\n",
        "\n",
        "#visualize image after augmented\n",
        "#num_img = int(input('number of pics u wanna see(input only number):'))\n",
        "num_img = 8\n",
        "f = plt.figure(figsize=(10,6))\n",
        "for i in range(num_img):\n",
        "    sp = f.add_subplot(2, 26//3, i+1)\n",
        "    sp.axis('Off')\n",
        "    aug_img = next(aug_iter)[0].astype(np.float32)\n",
        "    plt.imshow(aug_img[0], cmap='gray')"
      ]
    },
    {
      "cell_type": "code",
      "execution_count": null,
      "id": "liberal-thinking",
      "metadata": {
        "colab": {
          "base_uri": "https://localhost:8080/",
          "height": 119
        },
        "id": "liberal-thinking",
        "outputId": "d884c34b-8e46-40e6-f0a4-fa504eefdaf5"
      },
      "outputs": [
        {
          "output_type": "display_data",
          "data": {
            "text/plain": [
              "<Figure size 1000x600 with 8 Axes>"
            ],
            "image/png": "[encoded data removed]"
          },
          "metadata": {}
        }
      ],
      "source": [
        "#testing\n",
        "#reshape image\n",
        "img = np.expand_dims(x_test_thres_check_pic[0], axis=0)\n",
        "aug_iter = gen.flow(img)\n",
        "aug_img = next(aug_iter)[0].astype(np.float32)\n",
        "\n",
        "\n",
        "#visualize image after augmented\n",
        "#num_img = int(input('number of pics u wanna see(input only number):'))\n",
        "num_img = 8\n",
        "f = plt.figure(figsize=(10,6))\n",
        "for i in range(num_img):\n",
        "    sp = f.add_subplot(2, 26//3, i+1)\n",
        "    sp.axis('Off')\n",
        "    aug_img = next(aug_iter)[0].astype(np.float32)\n",
        "    plt.imshow(aug_img[0], cmap='gray')"
      ]
    },
    {
      "cell_type": "markdown",
      "source": [
        "<h1> training </h1>"
      ],
      "metadata": {
        "id": "lJpvvdKpUqEu"
      },
      "id": "lJpvvdKpUqEu"
    },
    {
      "cell_type": "code",
      "source": [
        "import warnings\n",
        "warnings.filterwarnings('ignore')"
      ],
      "metadata": {
        "id": "7ackk-ipUtT8"
      },
      "id": "7ackk-ipUtT8",
      "execution_count": null,
      "outputs": []
    },
    {
      "cell_type": "code",
      "source": [
        "import pandas as pd\n",
        "import numpy as np\n",
        "import os\n",
        "import matplotlib.pyplot as plt\n",
        "\n",
        "from tensorflow.keras import layers\n",
        "from tensorflow.keras.layers import Dense, GlobalAveragePooling2D\n",
        "from tensorflow.keras.applications.vgg16 import preprocess_input, VGG16\n",
        "from tensorflow.keras.preprocessing import image\n",
        "from tensorflow.keras.models import Model\n",
        "from tensorflow.keras.optimizers import Adam\n",
        "from tensorflow.keras.preprocessing.image import ImageDataGenerator"
      ],
      "metadata": {
        "id": "LEYvLDHCVDdF"
      },
      "id": "LEYvLDHCVDdF",
      "execution_count": null,
      "outputs": []
    },
    {
      "cell_type": "code",
      "source": [
        "#set seed (gor from https://stackoverflow.com/questions/32419510/how-to-get-reproducible-results-in-keras)\n",
        "# Seed value\n",
        "# Apparently you may use different seed values at each stage\n",
        "seed_value= 0\n",
        "\n",
        "# 1. Set the `PYTHONHASHSEED` environment variable at a fixed value\n",
        "import os\n",
        "os.environ['PYTHONHASHSEED']=str(seed_value)\n",
        "\n",
        "# 2. Set the `python` built-in pseudo-random generator at a fixed value\n",
        "import random\n",
        "random.seed(seed_value)\n",
        "\n",
        "# 3. Set the `numpy` pseudo-random generator at a fixed value\n",
        "import numpy as np\n",
        "np.random.seed(seed_value)\n",
        "\n",
        "# 4. Set the `tensorflow` pseudo-random generator at a fixed value\n",
        "import tensorflow as tf\n",
        "tf.random.set_seed(seed_value)\n",
        "# for later versions:\n",
        "# tf.compat.v1.set_random_seed(seed_value)"
      ],
      "metadata": {
        "id": "oNGRNA9eVE8R"
      },
      "id": "oNGRNA9eVE8R",
      "execution_count": null,
      "outputs": []
    },
    {
      "cell_type": "code",
      "source": [
        "input_layer=layers.Input(shape=(64,64,3))\n",
        "base_model = VGG16(weights='imagenet',input_tensor=input_layer,include_top=False)\n",
        "#base_model = VGG16(weights='imagenet',include_top=False)"
      ],
      "metadata": {
        "id": "0TRQa6hBVE-g",
        "colab": {
          "base_uri": "https://localhost:8080/"
        },
        "outputId": "ed1c6c3c-23e1-4fd8-be58-71f45990e454"
      },
      "id": "0TRQa6hBVE-g",
      "execution_count": null,
      "outputs": [
        {
          "output_type": "stream",
          "name": "stdout",
          "text": [
            "Downloading data from https://storage.googleapis.com/tensorflow/keras-applications/vgg16/vgg16_weights_tf_dim_ordering_tf_kernels_notop.h5\n",
            "58889256/58889256 [==============================] - 0s 0us/step\n"
          ]
        }
      ]
    },
    {
      "cell_type": "code",
      "source": [
        "x = base_model.output\n",
        "#x = GlobalAveragePooling2D()(x)\n",
        "x = layers.Flatten()(x)\n",
        "#x = Dense(256, activation='relu')(x)\n",
        "x = Dense(128, activation='relu')(x)\n",
        "#x = Dense(64, activation='relu')(x)\n",
        "preds = Dense(26, activation='softmax')(x)"
      ],
      "metadata": {
        "id": "5pEjMS3dVGc-"
      },
      "id": "5pEjMS3dVGc-",
      "execution_count": null,
      "outputs": []
    },
    {
      "cell_type": "code",
      "source": [
        "model = Model(inputs=base_model.input, outputs=preds)\n",
        "model.summary()"
      ],
      "metadata": {
        "colab": {
          "base_uri": "https://localhost:8080/"
        },
        "id": "bmQWsgqjVH-a",
        "outputId": "8b286015-6254-43c6-f4f7-74f7218e72b7"
      },
      "id": "bmQWsgqjVH-a",
      "execution_count": null,
      "outputs": [
        {
          "output_type": "stream",
          "name": "stdout",
          "text": [
            "Model: \"model\"\n",
            "_________________________________________________________________\n",
            " Layer (type)                Output Shape              Param #   \n",
            "=================================================================\n",
            " input_1 (InputLayer)        [(None, 64, 64, 3)]       0         \n",
            "                                                                 \n",
            " block1_conv1 (Conv2D)       (None, 64, 64, 64)        1792      \n",
            "                                                                 \n",
            " block1_conv2 (Conv2D)       (None, 64, 64, 64)        36928     \n",
            "                                                                 \n",
            " block1_pool (MaxPooling2D)  (None, 32, 32, 64)        0         \n",
            "                                                                 \n",
            " block2_conv1 (Conv2D)       (None, 32, 32, 128)       73856     \n",
            "                                                                 \n",
            " block2_conv2 (Conv2D)       (None, 32, 32, 128)       147584    \n",
            "                                                                 \n",
            " block2_pool (MaxPooling2D)  (None, 16, 16, 128)       0         \n",
            "                                                                 \n",
            " block3_conv1 (Conv2D)       (None, 16, 16, 256)       295168    \n",
            "                                                                 \n",
            " block3_conv2 (Conv2D)       (None, 16, 16, 256)       590080    \n",
            "                                                                 \n",
            " block3_conv3 (Conv2D)       (None, 16, 16, 256)       590080    \n",
            "                                                                 \n",
            " block3_pool (MaxPooling2D)  (None, 8, 8, 256)         0         \n",
            "                                                                 \n",
            " block4_conv1 (Conv2D)       (None, 8, 8, 512)         1180160   \n",
            "                                                                 \n",
            " block4_conv2 (Conv2D)       (None, 8, 8, 512)         2359808   \n",
            "                                                                 \n",
            " block4_conv3 (Conv2D)       (None, 8, 8, 512)         2359808   \n",
            "                                                                 \n",
            " block4_pool (MaxPooling2D)  (None, 4, 4, 512)         0         \n",
            "                                                                 \n",
            " block5_conv1 (Conv2D)       (None, 4, 4, 512)         2359808   \n",
            "                                                                 \n",
            " block5_conv2 (Conv2D)       (None, 4, 4, 512)         2359808   \n",
            "                                                                 \n",
            " block5_conv3 (Conv2D)       (None, 4, 4, 512)         2359808   \n",
            "                                                                 \n",
            " block5_pool (MaxPooling2D)  (None, 2, 2, 512)         0         \n",
            "                                                                 \n",
            " flatten (Flatten)           (None, 2048)              0         \n",
            "                                                                 \n",
            " dense (Dense)               (None, 128)               262272    \n",
            "                                                                 \n",
            " dense_1 (Dense)             (None, 26)                3354      \n",
            "                                                                 \n",
            "=================================================================\n",
            "Total params: 14,980,314\n",
            "Trainable params: 14,980,314\n",
            "Non-trainable params: 0\n",
            "_________________________________________________________________\n"
          ]
        }
      ]
    },
    {
      "cell_type": "code",
      "source": [
        "for layer in model.layers[:20]:\n",
        "    layer.trainable = False\n",
        "for layer in model.layers[20:]:\n",
        "    layer.trainable = True"
      ],
      "metadata": {
        "id": "g90ZfrxoVJ0t"
      },
      "id": "g90ZfrxoVJ0t",
      "execution_count": null,
      "outputs": []
    },
    {
      "cell_type": "code",
      "source": [
        "\n",
        "from sklearn.preprocessing import LabelBinarizer\n",
        "label_as_binary = LabelBinarizer()\n",
        "train__y_labels = label_as_binary.fit_transform(training_labels)\n",
        "test__y_labels = label_as_binary.fit_transform(test_labels)\n"
      ],
      "metadata": {
        "id": "NbYOu1-7gtGp"
      },
      "id": "NbYOu1-7gtGp",
      "execution_count": null,
      "outputs": []
    },
    {
      "cell_type": "code",
      "source": [
        "gen = ImageDataGenerator(rotation_range=12,\n",
        "                        width_shift_range=0.1,\n",
        "                        shear_range=0.3,\n",
        "                        height_shift_range=0.1,\n",
        "                        zoom_range=0.1,\n",
        "                        data_format='channels_first')\n",
        "#flow เข้า model ตรงนี้ ถ้าจะเอาไป train\n",
        "batch_size = 256\n",
        "train_batches = gen.flow(x_train_thres, train__y_labels , batch_size=batch_size)\n",
        "test_batches = gen.flow(x_test_thres,test__y_labels,batch_size=batch_size)\n",
        "\n",
        "steps_per_epoch = int(np.ceil(train_batches.n/batch_size))\n",
        "validation_steps = int(np.ceil(test_batches.n/batch_size))"
      ],
      "metadata": {
        "id": "pciEmAMaf0Hg"
      },
      "id": "pciEmAMaf0Hg",
      "execution_count": null,
      "outputs": []
    },
    {
      "cell_type": "code",
      "source": [
        "#check shape\n",
        "print(f\"x_train_thres.shape : {x_train_thres.shape}\")\n",
        "print(f\"train__y_labels.shape : {train__y_labels.shape}\")\n",
        "print(f\"x_test_thres.shape : {x_test_thres.shape}\")\n",
        "print(f\"test__y_labels.shape : {test__y_labels.shape}\")\n"
      ],
      "metadata": {
        "colab": {
          "base_uri": "https://localhost:8080/"
        },
        "id": "TPdrsflagaPF",
        "outputId": "b6a2ac0c-ccc1-4267-f2fa-8e8b7138b889"
      },
      "id": "TPdrsflagaPF",
      "execution_count": null,
      "outputs": [
        {
          "output_type": "stream",
          "name": "stdout",
          "text": [
            "x_train_thres.shape : (124800, 64, 64, 3)\n",
            "train__y_labels.shape : (124800, 26)\n",
            "x_test_thres.shape : (20800, 64, 64, 3)\n",
            "test__y_labels.shape : (20800, 26)\n"
          ]
        }
      ]
    },
    {
      "cell_type": "code",
      "source": [
        "x_train_thres[0]\n",
        "plt.imshow(x_train_thres[0], cmap='gray')"
      ],
      "metadata": {
        "colab": {
          "base_uri": "https://localhost:8080/",
          "height": 449
        },
        "id": "DaKGEN4HpI3R",
        "outputId": "dad8f434-8976-4fb4-b00a-6bea2734c94b"
      },
      "id": "DaKGEN4HpI3R",
      "execution_count": null,
      "outputs": [
        {
          "output_type": "execute_result",
          "data": {
            "text/plain": [
              "<matplotlib.image.AxesImage at 0x7b98db362890>"
            ]
          },
          "metadata": {},
          "execution_count": 120
        },
        {
          "output_type": "display_data",
          "data": {
            "text/plain": [
              "<Figure size 640x480 with 1 Axes>"
            ],
            "image/png": "[encoded data removed]"
          },
          "metadata": {}
        }
      ]
    },
    {
      "cell_type": "code",
      "source": [
        "model.compile(optimizer='adam', loss='categorical_crossentropy', metrics=['accuracy'])\n",
        "#model.compile(optimizer='adam', loss='sparse_categorical_crossentropy', metrics=['accuracy'])"
      ],
      "metadata": {
        "id": "NkQsUOdeVMvC"
      },
      "id": "NkQsUOdeVMvC",
      "execution_count": null,
      "outputs": []
    },
    {
      "cell_type": "code",
      "source": [
        "model.fit(train_batches, steps_per_epoch= steps_per_epoch, epochs=10)"
      ],
      "metadata": {
        "colab": {
          "base_uri": "https://localhost:8080/"
        },
        "id": "hbNMR1MJVS5D",
        "outputId": "2eaa0bf7-894d-49b7-8358-e8bac5e5f606"
      },
      "id": "hbNMR1MJVS5D",
      "execution_count": null,
      "outputs": [
        {
          "output_type": "stream",
          "name": "stdout",
          "text": [
            "Epoch 1/10\n",
            "488/488 [==============================] - 495s 1s/step - loss: 0.7797 - accuracy: 0.8013\n",
            "Epoch 2/10\n",
            "488/488 [==============================] - 492s 1s/step - loss: 0.3472 - accuracy: 0.8899\n",
            "Epoch 3/10\n",
            "488/488 [==============================] - 490s 1s/step - loss: 0.2936 - accuracy: 0.9032\n",
            "Epoch 4/10\n",
            "488/488 [==============================] - 491s 1s/step - loss: 0.2654 - accuracy: 0.9117\n",
            "Epoch 5/10\n",
            "488/488 [==============================] - 492s 1s/step - loss: 0.2497 - accuracy: 0.9163\n",
            "Epoch 6/10\n",
            "488/488 [==============================] - 493s 1s/step - loss: 0.2369 - accuracy: 0.9188\n",
            "Epoch 7/10\n",
            "488/488 [==============================] - 490s 1s/step - loss: 0.2274 - accuracy: 0.9225\n",
            "Epoch 8/10\n",
            "488/488 [==============================] - 491s 1s/step - loss: 0.2194 - accuracy: 0.9241\n",
            "Epoch 9/10\n",
            "488/488 [==============================] - 492s 1s/step - loss: 0.2081 - accuracy: 0.9275\n",
            "Epoch 10/10\n",
            "488/488 [==============================] - 492s 1s/step - loss: 0.2066 - accuracy: 0.9278\n"
          ]
        },
        {
          "output_type": "execute_result",
          "data": {
            "text/plain": [
              "<keras.callbacks.History at 0x78d0482520b0>"
            ]
          },
          "metadata": {},
          "execution_count": 18
        }
      ]
    },
    {
      "cell_type": "code",
      "source": [
        "model.save('model_vgg16_text.h5')"
      ],
      "metadata": {
        "id": "VrbH0J7q5iJ4"
      },
      "id": "VrbH0J7q5iJ4",
      "execution_count": null,
      "outputs": []
    },
    {
      "cell_type": "code",
      "source": [
        "score = model.evaluate(test_batches)"
      ],
      "metadata": {
        "colab": {
          "base_uri": "https://localhost:8080/"
        },
        "id": "pEOQM3rMtSTz",
        "outputId": "b48da676-bf02-4ed6-98b0-0753838f9ac8"
      },
      "id": "pEOQM3rMtSTz",
      "execution_count": null,
      "outputs": [
        {
          "output_type": "stream",
          "name": "stdout",
          "text": [
            "82/82 [==============================] - 83s 999ms/step - loss: 0.3008 - accuracy: 0.9087\n"
          ]
        }
      ]
    },
    {
      "cell_type": "code",
      "source": [
        "x_test_thres[0]\n",
        "plt.imshow(temp[0], cmap='gray')"
      ],
      "metadata": {
        "colab": {
          "base_uri": "https://localhost:8080/",
          "height": 447
        },
        "id": "8W6zmOhVrWPl",
        "outputId": "12ce5194-1903-4dc9-db87-9499184f3e74"
      },
      "id": "8W6zmOhVrWPl",
      "execution_count": null,
      "outputs": [
        {
          "output_type": "execute_result",
          "data": {
            "text/plain": [
              "<matplotlib.image.AxesImage at 0x7b98d93ac490>"
            ]
          },
          "metadata": {},
          "execution_count": 90
        },
        {
          "output_type": "display_data",
          "data": {
            "text/plain": [
              "<Figure size 640x480 with 1 Axes>"
            ],
            "image/png": "[encoded data removed]"
          },
          "metadata": {}
        }
      ]
    },
    {
      "cell_type": "code",
      "source": [
        " prediction=model.predict(temp.reshape(1,48,48,3))"
      ],
      "metadata": {
        "colab": {
          "base_uri": "https://localhost:8080/",
          "height": 178
        },
        "id": "BdtVy9NrrWZQ",
        "outputId": "a314c3b9-5d8a-49f8-f639-e102ab9ae7db"
      },
      "id": "BdtVy9NrrWZQ",
      "execution_count": null,
      "outputs": [
        {
          "output_type": "error",
          "ename": "ValueError",
          "evalue": "ignored",
          "traceback": [
            "\u001b[0;31m---------------------------------------------------------------------------\u001b[0m",
            "\u001b[0;31mValueError\u001b[0m                                Traceback (most recent call last)",
            "\u001b[0;32m<ipython-input-91-1cf5f9ebd7ad>\u001b[0m in \u001b[0;36m<cell line: 1>\u001b[0;34m()\u001b[0m\n\u001b[0;32m----> 1\u001b[0;31m \u001b[0mprediction\u001b[0m\u001b[0;34m=\u001b[0m\u001b[0mmodel\u001b[0m\u001b[0;34m.\u001b[0m\u001b[0mpredict\u001b[0m\u001b[0;34m(\u001b[0m\u001b[0mtemp\u001b[0m\u001b[0;34m.\u001b[0m\u001b[0mreshape\u001b[0m\u001b[0;34m(\u001b[0m\u001b[0;36m1\u001b[0m\u001b[0;34m,\u001b[0m\u001b[0;36m48\u001b[0m\u001b[0;34m,\u001b[0m\u001b[0;36m48\u001b[0m\u001b[0;34m,\u001b[0m\u001b[0;36m3\u001b[0m\u001b[0;34m)\u001b[0m\u001b[0;34m)\u001b[0m\u001b[0;34m\u001b[0m\u001b[0;34m\u001b[0m\u001b[0m\n\u001b[0m",
            "\u001b[0;31mValueError\u001b[0m: cannot reshape array of size 2352 into shape (1,48,48,3)"
          ]
        }
      ]
    },
    {
      "cell_type": "code",
      "source": [],
      "metadata": {
        "id": "vWu2xbvFg0k6"
      },
      "id": "vWu2xbvFg0k6",
      "execution_count": null,
      "outputs": []
    }
  ],
  "metadata": {
    "kernelspec": {
      "display_name": "Python 3",
      "name": "python3"
    },
    "language_info": {
      "codemirror_mode": {
        "name": "ipython",
        "version": 3
      },
      "file_extension": ".py",
      "mimetype": "text/x-python",
      "name": "python",
      "nbconvert_exporter": "python",
      "pygments_lexer": "ipython3",
      "version": "3.7.7"
    },
    "colab": {
      "provenance": [],
      "machine_shape": "hm",
      "include_colab_link": true
    },
    "accelerator": "TPU"
  },
  "nbformat": 4,
  "nbformat_minor": 5
}